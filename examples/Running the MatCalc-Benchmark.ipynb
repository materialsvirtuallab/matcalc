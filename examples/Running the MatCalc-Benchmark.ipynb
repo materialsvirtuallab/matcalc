{
 "cells": [
  {
   "cell_type": "markdown",
   "id": "0",
   "metadata": {},
   "source": [
    "# Introduction\n",
    "\n",
    "This notebook demonstrates how to run the MatCalc-Benchmark. We will use the recently released TensorNet-MatPES-PBE-v2025.1-PES and M3GNet-MatPES-PBE-v2025.1-PES universal machine learning interatomic potentials for demonstration purposes. All that is needed to run the benchmark on a separate model is to provide a compatible ASE Calculator for your FP."
   ]
  },
  {
   "cell_type": "code",
   "execution_count": null,
   "id": "1",
   "metadata": {},
   "outputs": [],
   "source": [
    "from __future__ import annotations\n",
    "\n",
    "import warnings\n",
    "\n",
    "import numpy as np\n",
    "import pandas as pd\n",
    "\n",
    "from matcalc import load_fp\n",
    "from matcalc.benchmark import ElasticityBenchmark"
   ]
  },
  {
   "cell_type": "markdown",
   "id": "2",
   "metadata": {},
   "source": [
    "# Elasticity Benchmark\n",
    "\n",
    "For demonstration purposes only, we will sample 10 structures from the entire test dataset."
   ]
  },
  {
   "cell_type": "code",
   "execution_count": null,
   "id": "3",
   "metadata": {},
   "outputs": [],
   "source": [
    "benchmark = ElasticityBenchmark(n_samples=10, seed=2025, fmax=0.05, relax_structure=True)\n",
    "results = {}\n",
    "for model_name in [\n",
    "    \"M3GNet-MatPES-PBE-v2025.1-PES\",\n",
    "    \"TensorNet-MatPES-PBE-v2025.1-PES\",\n",
    "]:\n",
    "    calculator = load_fp(model_name)\n",
    "    short_name = model_name.split(\"-\")[0]\n",
    "    with warnings.catch_warnings():\n",
    "        warnings.simplefilter(\"ignore\")\n",
    "        results[short_name] = benchmark.run(calculator, short_name)"
   ]
  },
  {
   "cell_type": "code",
   "execution_count": null,
   "id": "4",
   "metadata": {},
   "outputs": [],
   "source": [
    "df = pd.merge(results[\"M3GNet\"], results[\"TensorNet\"], on=\"mp_id\", how=\"inner\", suffixes=(None, \"_dupe\"))"
   ]
  },
  {
   "cell_type": "code",
   "execution_count": null,
   "id": "5",
   "metadata": {},
   "outputs": [],
   "source": [
    "# To dump the results to a csv file, uncomment the code below.\n",
    "# results.to_csv(\"MatCalc-Benchmark-elasticity.csv\")"
   ]
  },
  {
   "cell_type": "code",
   "execution_count": null,
   "id": "6",
   "metadata": {},
   "outputs": [
    {
     "name": "stdout",
     "output_type": "stream",
     "text": [
      "MAE K_vrh_DFT = 0.0\n",
      "MAE G_vrh_DFT = 0.0\n",
      "MAE K_vrh_M3GNet = 70.4\n",
      "MAE G_vrh_M3GNet = 21.0\n",
      "MAE K_vrh_DFT_dupe = 0.0\n",
      "MAE G_vrh_DFT_dupe = 0.0\n",
      "MAE K_vrh_TensorNet = 25.4\n",
      "MAE G_vrh_TensorNet = 10.7\n"
     ]
    }
   ],
   "source": [
    "for c in df.columns:\n",
    "    if c.startswith(\"K\") or c.startswith(\"G\"):\n",
    "        df[f\"AE {c}\"] = np.abs(df[c] - df[f\"{c.split('_')[0]}_vrh_DFT\"])\n",
    "        print(f\"MAE {c} = {df[f'AE {c}'].mean():.1f}\")"
   ]
  },
  {
   "cell_type": "markdown",
   "id": "7",
   "metadata": {},
   "source": [
    "# Statistical significance test\n",
    "\n",
    "When comparing the performance of models, it is important to not just look at the final MAE but also to perform a rigorous statistical test of whether there is a significant difference between the MAEs. Since the model predictions are for the same set of compounds, this can be done using the paired t-test. See: https://www.jmp.com/en/statistics-knowledge-portal/t-test/two-sample-t-test"
   ]
  },
  {
   "cell_type": "code",
   "execution_count": null,
   "id": "8",
   "metadata": {},
   "outputs": [],
   "source": [
    "from scipy.stats import ttest_rel"
   ]
  },
  {
   "cell_type": "code",
   "execution_count": null,
   "id": "9",
   "metadata": {},
   "outputs": [
    {
     "name": "stdout",
     "output_type": "stream",
     "text": [
      "TtestResult(statistic=-1.1585260485661484, pvalue=0.2764656551436894, df=9)\n",
      "TtestResult(statistic=-1.4169146794224114, pvalue=0.19017986319358168, df=9)\n"
     ]
    }
   ],
   "source": [
    "print(ttest_rel(df[\"AE K_vrh_TensorNet\"], df[\"AE K_vrh_M3GNet\"]))\n",
    "print(ttest_rel(df[\"AE G_vrh_TensorNet\"], df[\"AE G_vrh_M3GNet\"]))"
   ]
  },
  {
   "cell_type": "markdown",
   "id": "10",
   "metadata": {},
   "source": [
    "At an alpha of 5%, the p value show that we **reject the null hypothesis that the MAEs in K of the two models are the same**, i.e., the difference in MAEs in K of the two models is statistically significant. However, we **do not reject the null hypothesis that the MAEs in G of the two models are the same**, i.e., the difference in MAEs in G of the two models is not statistically significant."
   ]
  }
 ],
 "metadata": {
  "kernelspec": {
   "display_name": "Python 3 (ipykernel)",
   "language": "python",
   "name": "python3"
  },
  "language_info": {
   "codemirror_mode": {
    "name": "ipython",
    "version": 3
   },
   "file_extension": ".py",
   "mimetype": "text/x-python",
   "name": "python",
   "nbconvert_exporter": "python",
   "pygments_lexer": "ipython3",
   "version": "3.10.16"
  }
 },
 "nbformat": 4,
 "nbformat_minor": 5
}
