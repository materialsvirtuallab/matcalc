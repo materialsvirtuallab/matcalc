{
 "cells": [
  {
   "cell_type": "markdown",
   "id": "0",
   "metadata": {
    "toc": true
   },
   "source": [
    "<h1>Table of Contents<span class=\"tocSkip\"></span></h1>\n",
    "<div class=\"toc\"><ul class=\"toc-item\"><li><span><a href=\"#Prepare-NEB-end-structures\" data-toc-modified-id=\"Prepare-NEB-end-structures-1\"><span class=\"toc-item-num\">1&nbsp;&nbsp;</span>Prepare NEB end structures</a></span><ul class=\"toc-item\"><li><span><a href=\"#Download-from-Materials-Project-and-create-supercell\" data-toc-modified-id=\"Download-from-Materials-Project-and-create-supercell-1.1\"><span class=\"toc-item-num\">1.1&nbsp;&nbsp;</span>Download from Materials Project and create supercell</a></span></li><li><span><a href=\"#Relax-supercells-with-M3GNet-DIRECT,-M3GNet-MS,-and-CHGNet\" data-toc-modified-id=\"Relax-supercells-with-M3GNet-DIRECT,-M3GNet-MS,-and-CHGNet-1.2\"><span class=\"toc-item-num\">1.2&nbsp;&nbsp;</span>Relax supercells with M3GNet-DIRECT, M3GNet-MS, and CHGNet</a></span></li><li><span><a href=\"#Create-and-relax-NEB-end-structures----b-and-c-directions\" data-toc-modified-id=\"Create-and-relax-NEB-end-structures----b-and-c-directions-1.3\"><span class=\"toc-item-num\">1.3&nbsp;&nbsp;</span>Create and relax NEB end structures -- b and c directions</a></span></li></ul></li><li><span><a href=\"#NEB-calculations-with-M3GNet-DIRECT,-M3GNet-MS,-and-CHGNet\" data-toc-modified-id=\"NEB-calculations-with-M3GNet-DIRECT,-M3GNet-MS,-and-CHGNet-2\"><span class=\"toc-item-num\">2&nbsp;&nbsp;</span>NEB calculations with M3GNet-DIRECT, M3GNet-MS, and CHGNet</a></span><ul class=\"toc-item\"><li><span><a href=\"#generate-NEB-images-from-end-structures-and-conduct-NEB\" data-toc-modified-id=\"generate-NEB-images-from-end-structures-and-conduct-NEB-2.1\"><span class=\"toc-item-num\">2.1&nbsp;&nbsp;</span>generate NEB images from end structures and conduct NEB</a></span></li><li><span><a href=\"#analyze-and-plot-NEB-results\" data-toc-modified-id=\"analyze-and-plot-NEB-results-2.2\"><span class=\"toc-item-num\">2.2&nbsp;&nbsp;</span>analyze and plot NEB results</a></span></li><li><span><a href=\"#Store-NEB-images-in-one-cif-file-for-visualization\" data-toc-modified-id=\"Store-NEB-images-in-one-cif-file-for-visualization-2.3\"><span class=\"toc-item-num\">2.3&nbsp;&nbsp;</span>Store NEB images in one cif file for visualization</a></span></li><li><span><a href=\"#Visualize-NEB-path-(snapshots-of-VESTA-visualization-of-path_final.cif)\" data-toc-modified-id=\"Visualize-NEB-path-(snapshots-of-VESTA-visualization-of-path_final.cif)-2.4\"><span class=\"toc-item-num\">2.4&nbsp;&nbsp;</span>Visualize NEB path (snapshots of VESTA visualization of path_final.cif)</a></span></li></ul></li></ul></div>\n"
   ]
  },
  {
   "cell_type": "markdown",
   "id": "1",
   "metadata": {},
   "source": [
    "DFT barrier heights: path b = 0.27 eV and path c = 2.5 eV. (see table 1 in https://doi.org/10.1039/C5TA05062F)\n"
   ]
  },
  {
   "cell_type": "code",
   "execution_count": null,
   "id": "2",
   "metadata": {},
   "outputs": [],
   "source": [
    "from __future__ import annotations\n",
    "\n",
    "import os\n",
    "\n",
    "from ase.mep import NEBTools\n",
    "from pymatgen.ext.matproj import MPRester\n",
    "\n",
    "from matcalc import NEBCalc, RelaxCalc, load_fp\n",
    "\n",
    "mpr = MPRester()\n",
    "\n",
    "data_dir = \"NEB_data\"\n",
    "os.makedirs(data_dir, exist_ok=True)"
   ]
  },
  {
   "cell_type": "markdown",
   "id": "3",
   "metadata": {},
   "source": [
    "# Prepare NEB end structures\n"
   ]
  },
  {
   "cell_type": "markdown",
   "id": "4",
   "metadata": {},
   "source": [
    "## Download from Materials Project and create supercell\n"
   ]
  },
  {
   "cell_type": "code",
   "execution_count": null,
   "id": "5",
   "metadata": {},
   "outputs": [
    {
     "data": {
      "application/vnd.jupyter.widget-view+json": {
       "model_id": "86bdf113f2ae4d7c88510000e493833e",
       "version_major": 2,
       "version_minor": 0
      },
      "text/plain": [
       "Retrieving MaterialsDoc documents:   0%|          | 0/1 [00:00<?, ?it/s]"
      ]
     },
     "metadata": {},
     "output_type": "display_data"
    },
    {
     "data": {
      "text/plain": [
       "((10.23619605, 11.941510200000154, 9.309834380000202), 'Li16 Fe16 P16 O64')"
      ]
     },
     "execution_count": null,
     "metadata": {},
     "output_type": "execute_result"
    }
   ],
   "source": [
    "s_LFPO = mpr.get_structure_by_material_id(\"mp-19017\")\n",
    "s_LFPO.make_supercell([1, 2, 2], in_place=True)\n",
    "s_LFPO.to(f\"{data_dir}/LiFePO4_supercell.cif\", \"cif\")\n",
    "s_LFPO.lattice.abc, s_LFPO.formula"
   ]
  },
  {
   "cell_type": "markdown",
   "id": "6",
   "metadata": {},
   "source": [
    "## Relax supercells with M3GNet-DIRECT, M3GNet-MS, and CHGNet\n"
   ]
  },
  {
   "cell_type": "code",
   "execution_count": null,
   "id": "7",
   "metadata": {},
   "outputs": [],
   "source": [
    "model = load_fp(\"M3GNet-MP-2021.2.8-DIRECT-PES\")"
   ]
  },
  {
   "cell_type": "code",
   "execution_count": null,
   "id": "8",
   "metadata": {},
   "outputs": [
    {
     "name": "stdout",
     "output_type": "stream",
     "text": [
      "CPU times: user 2min 10s, sys: 4min 14s, total: 6min 25s\n",
      "Wall time: 53.7 s\n"
     ]
    }
   ],
   "source": [
    "%%time\n",
    "relaxer = RelaxCalc(model, optimizer=\"BFGS\", relax_cell=True, fmax=0.02)\n",
    "supercell_LFPO_relaxed = relaxer.calc(s_LFPO)[\"final_structure\"]\n",
    "results = {\"supercell_LFPO\": supercell_LFPO_relaxed}"
   ]
  },
  {
   "cell_type": "markdown",
   "id": "9",
   "metadata": {},
   "source": [
    "## Create and relax NEB end structures -- b and c directions\n"
   ]
  },
  {
   "cell_type": "code",
   "execution_count": null,
   "id": "10",
   "metadata": {},
   "outputs": [
    {
     "name": "stdout",
     "output_type": "stream",
     "text": [
      "CPU times: user 1min 59s, sys: 4min 45s, total: 6min 44s\n",
      "Wall time: 52 s\n"
     ]
    }
   ],
   "source": [
    "%%time\n",
    "relaxer = RelaxCalc(model, optimizer=\"BFGS\", relax_cell=False, fmax=0.02)\n",
    "supercell_LFPO_relaxed = results[\"supercell_LFPO\"]\n",
    "\n",
    "# NEB path along b and c directions have the same starting image.\n",
    "s_LFPO_end_b = supercell_LFPO_relaxed.copy()\n",
    "s_LFPO_end_b.remove_sites([11])\n",
    "s_LFPO_end_b_relaxed = relaxer.calc(s_LFPO_end_b)[\"final_structure\"]\n",
    "s_LFPO_end_c = supercell_LFPO_relaxed.copy()\n",
    "s_LFPO_end_c.remove_sites([4])\n",
    "s_LFPO_end_c_relaxed = relaxer.calc(s_LFPO_end_c)[\"final_structure\"]\n",
    "s_LFPO_start_bc = supercell_LFPO_relaxed.copy()\n",
    "s_LFPO_start_bc.remove_sites([5])\n",
    "s_LFPO_start_bc_relaxed = relaxer.calc(s_LFPO_start_bc)[\"final_structure\"]\n",
    "results.update(\n",
    "    {\n",
    "        \"supercell_LFPO_end_b\": s_LFPO_end_b_relaxed,\n",
    "        \"supercell_LFPO_end_c\": s_LFPO_end_c_relaxed,\n",
    "        \"supercell_LFPO_start_bc\": s_LFPO_start_bc_relaxed,\n",
    "    }\n",
    ")"
   ]
  },
  {
   "cell_type": "markdown",
   "id": "11",
   "metadata": {},
   "source": [
    "## Generate NEB images from end structures and conduct NEB\n"
   ]
  },
  {
   "cell_type": "code",
   "execution_count": null,
   "id": "12",
   "metadata": {},
   "outputs": [
    {
     "name": "stderr",
     "output_type": "stream",
     "text": [
      "/Users/shyue/repos/matcalc/src/matcalc/_neb.py:120: FutureWarning: Please import NEB from ase.mep, not ase.neb.\n",
      "  self.neb = NEB(images, climb=self.climb, allow_shared_calculator=True, **self.kwargs)\n"
     ]
    },
    {
     "name": "stdout",
     "output_type": "stream",
     "text": [
      "      Step     Time          Energy          fmax\n",
      "BFGS:    0 17:57:29     -756.272156        1.810983\n",
      "BFGS:    1 17:57:42     -756.389709        1.203475\n",
      "BFGS:    2 17:57:57     -756.550842        0.739199\n",
      "BFGS:    3 17:58:11     -756.629150        0.545949\n",
      "BFGS:    4 17:58:23     -756.659912        0.467876\n",
      "BFGS:    5 17:58:36     -756.669128        0.463015\n",
      "BFGS:    6 17:58:51     -756.680847        0.449014\n",
      "BFGS:    7 17:59:09     -756.698608        0.430838\n",
      "BFGS:    8 17:59:22     -756.719604        0.316095\n",
      "BFGS:    9 17:59:37     -756.733032        0.303286\n",
      "BFGS:   10 17:59:53     -756.739502        0.311070\n",
      "BFGS:   11 18:00:07     -756.748108        0.312358\n",
      "BFGS:   12 18:00:21     -756.758728        0.260717\n",
      "BFGS:   13 18:00:34     -756.772278        0.282615\n",
      "BFGS:   14 18:00:49     -756.785645        0.268146\n",
      "BFGS:   15 18:01:02     -756.793396        0.233269\n",
      "BFGS:   16 18:01:15     -756.798157        0.224495\n",
      "BFGS:   17 18:01:27     -756.803467        0.180113\n",
      "BFGS:   18 18:01:40     -756.812500        0.171516\n",
      "BFGS:   19 18:01:54     -756.821960        0.182237\n",
      "BFGS:   20 18:02:08     -756.828918        0.215211\n",
      "BFGS:   21 18:02:20     -756.831604        0.128986\n",
      "BFGS:   22 18:02:34     -756.833374        0.096751\n",
      "BFGS:   23 18:02:48     -756.835938        0.137336\n",
      "BFGS:   24 18:03:01     -756.839111        0.157666\n",
      "BFGS:   25 18:03:15     -756.841248        0.142524\n",
      "BFGS:   26 18:03:27     -756.842529        0.072645\n",
      "BFGS:   27 18:03:40     -756.843323        0.057731\n",
      "BFGS:   28 18:03:54     -756.844177        0.068365\n",
      "BFGS:   29 18:04:08     -756.845459        0.102348\n",
      "BFGS:   30 18:04:21     -756.846313        0.104285\n",
      "BFGS:   31 18:04:36     -756.846802        0.069881\n",
      "BFGS:   32 18:04:50     -756.847290        0.074304\n",
      "BFGS:   33 18:05:04     -756.847778        0.066318\n",
      "BFGS:   34 18:05:17     -756.848450        0.088818\n",
      "BFGS:   35 18:05:30     -756.848877        0.080268\n",
      "BFGS:   36 18:05:45     -756.849182        0.067517\n",
      "BFGS:   37 18:05:58     -756.849487        0.043170\n"
     ]
    },
    {
     "name": "stderr",
     "output_type": "stream",
     "text": [
      "/Users/shyue/repos/matcalc/src/matcalc/_neb.py:131: FutureWarning: Please import NEBTools from ase.mep, not ase.neb.\n",
      "  neb_tool = NEBTools(self.neb.images)\n"
     ]
    },
    {
     "name": "stdout",
     "output_type": "stream",
     "text": [
      "Barrier along b: 0.15710449218749956 eV.\n",
      "      Step     Time          Energy          fmax\n",
      "BFGS:    0 18:06:30     -755.307739        4.680775\n",
      "BFGS:    1 18:06:43     -755.582764        1.755719\n",
      "BFGS:    2 18:06:58     -755.707825        1.327105\n",
      "BFGS:    3 18:07:12     -755.897095        0.831627\n",
      "BFGS:    4 18:07:25     -755.949829        0.620606\n",
      "BFGS:    5 18:07:40     -755.974854        0.663567\n",
      "BFGS:    6 18:07:55     -755.987732        0.544448\n",
      "BFGS:    7 18:08:09     -756.006104        0.421952\n",
      "BFGS:    8 18:08:23     -756.031433        0.284905\n",
      "BFGS:    9 18:08:42     -756.050537        0.261008\n",
      "BFGS:   10 18:09:03     -756.059448        0.312527\n",
      "BFGS:   11 18:09:17     -756.063965        0.284364\n",
      "BFGS:   12 18:09:28     -756.067078        0.238303\n",
      "BFGS:   13 18:09:42     -756.071777        0.184337\n",
      "BFGS:   14 18:09:55     -756.077759        0.125851\n",
      "BFGS:   15 18:10:08     -756.081299        0.133164\n",
      "BFGS:   16 18:10:20     -756.083496        0.115811\n",
      "BFGS:   17 18:10:34     -756.085632        0.130485\n",
      "BFGS:   18 18:10:47     -756.088501        0.127678\n",
      "BFGS:   19 18:11:00     -756.091309        0.090027\n",
      "BFGS:   20 18:11:14     -756.092896        0.085447\n",
      "BFGS:   21 18:11:26     -756.093628        0.070236\n",
      "BFGS:   22 18:11:39     -756.094543        0.077697\n",
      "BFGS:   23 18:11:54     -756.095947        0.087274\n",
      "BFGS:   24 18:12:08     -756.097412        0.086013\n",
      "BFGS:   25 18:12:21     -756.098083        0.057481\n",
      "BFGS:   26 18:12:36     -756.098389        0.044807\n",
      "Barrier along c: 0.9082031250000018 eV.\n",
      "CPU times: user 42min 8s, sys: 1h 20min 38s, total: 2h 2min 46s\n",
      "Wall time: 15min 35s\n"
     ]
    }
   ],
   "source": [
    "%%time\n",
    "\n",
    "for neb_path in \"bc\":\n",
    "    neb_calc = NEBCalc(\n",
    "        calculator=model,\n",
    "        optimizer=\"BFGS\",  # Specify the optimizer if different from default\n",
    "        traj_folder=f\"{data_dir}/traj_{neb_path}/\",\n",
    "        climb=True,\n",
    "        fmax=0.05,\n",
    "        max_steps=1000,  # Specify max_steps if different from default\n",
    "    )\n",
    "    # Instantiate the NEBCalc object with the desired parameters\n",
    "\n",
    "    results_dict = neb_calc.calc_images(\n",
    "        start_struct=results[\"supercell_LFPO_start_bc\"],\n",
    "        end_struct=results[f\"supercell_LFPO_end_{neb_path}\"],\n",
    "        n_images=7,\n",
    "        interpolate_lattices=False,\n",
    "        autosort_tol=0.5,\n",
    "    )\n",
    "\n",
    "    barrier = results_dict[\"barrier\"]\n",
    "    results[f\"mep_{neb_path}\"] = results_dict[\"mep\"]\n",
    "    results[f\"NEB_{neb_path}\"] = neb_calc.neb\n",
    "    print(f\"Barrier along {neb_path}: {barrier} eV.\")"
   ]
  },
  {
   "cell_type": "markdown",
   "id": "13",
   "metadata": {},
   "source": [
    "## Analyze and plot NEB results"
   ]
  },
  {
   "cell_type": "code",
   "execution_count": null,
   "id": "14",
   "metadata": {},
   "outputs": [
    {
     "name": "stdout",
     "output_type": "stream",
     "text": [
      "Path along b: \n"
     ]
    },
    {
     "data": {
      "image/png": "[encoded data removed]",
      "text/plain": [
       "<Figure size 640x480 with 1 Axes>"
      ]
     },
     "metadata": {},
     "output_type": "display_data"
    },
    {
     "name": "stdout",
     "output_type": "stream",
     "text": [
      "Path along c: \n"
     ]
    },
    {
     "data": {
      "image/png": "[encoded data removed]",
      "text/plain": [
       "<Figure size 640x480 with 1 Axes>"
      ]
     },
     "metadata": {},
     "output_type": "display_data"
    },
    {
     "name": "stdout",
     "output_type": "stream",
     "text": [
      "CPU times: user 30.4 s, sys: 1min 47s, total: 2min 18s\n",
      "Wall time: 18.2 s\n"
     ]
    }
   ],
   "source": [
    "%%time\n",
    "import matplotlib.pyplot as plt\n",
    "\n",
    "for neb_path in \"bc\":\n",
    "    NEB_tool = NEBTools(results[f\"NEB_{neb_path}\"].images)\n",
    "    print(f\"Path along {neb_path}: \")\n",
    "    fig = NEB_tool.plot_band()\n",
    "    plt.show()"
   ]
  },
  {
   "cell_type": "markdown",
   "id": "15",
   "metadata": {},
   "source": [
    "## Store NEB images in one cif file for visualization\n"
   ]
  },
  {
   "cell_type": "code",
   "execution_count": null,
   "id": "16",
   "metadata": {},
   "outputs": [],
   "source": [
    "from itertools import chain\n",
    "\n",
    "from pymatgen.core import PeriodicSite, Structure\n",
    "from pymatgen.io.ase import AseAtomsAdaptor\n",
    "\n",
    "\n",
    "def generate_path_cif_from_images(images: list, filename: str) -> None:\n",
    "    \"\"\"Generate a cif file from a list of image atoms.\"\"\"\n",
    "    image_structs = [AseAtomsAdaptor.get_structure(image) for image in images]\n",
    "    sites = set()\n",
    "    lattice = image_structs[0].lattice\n",
    "    sites.update(\n",
    "        PeriodicSite(site.species, site.frac_coords, lattice) for site in chain(*(struct for struct in image_structs))\n",
    "    )\n",
    "    neb_path = Structure.from_sites(sorted(sites))\n",
    "    neb_path.to(filename, \"cif\")"
   ]
  },
  {
   "cell_type": "code",
   "execution_count": null,
   "id": "17",
   "metadata": {},
   "outputs": [
    {
     "name": "stdout",
     "output_type": "stream",
     "text": [
      "CPU times: user 6.49 s, sys: 1.12 s, total: 7.61 s\n",
      "Wall time: 5.61 s\n"
     ]
    }
   ],
   "source": [
    "%%time\n",
    "for neb_path in \"bc\":\n",
    "    NEB_tool = NEBTools(results[f\"NEB_{neb_path}\"].images)\n",
    "    generate_path_cif_from_images(NEB_tool.images, f\"{data_dir}/traj_{neb_path}/path_final.cif\")"
   ]
  },
  {
   "cell_type": "code",
   "execution_count": null,
   "id": "18",
   "metadata": {},
   "outputs": [],
   "source": [
    "# Perform some cleanup.\n",
    "\n",
    "import shutil\n",
    "\n",
    "shutil.rmtree(data_dir)"
   ]
  }
 ],
 "metadata": {
  "kernelspec": {
   "display_name": "Python 3 (ipykernel)",
   "language": "python",
   "name": "python3"
  },
  "language_info": {
   "codemirror_mode": {
    "name": "ipython",
    "version": 3
   },
   "file_extension": ".py",
   "mimetype": "text/x-python",
   "name": "python",
   "nbconvert_exporter": "python",
   "pygments_lexer": "ipython3",
   "version": "3.10.16"
  },
  "toc": {
   "base_numbering": 1,
   "nav_menu": {},
   "number_sections": true,
   "sideBar": true,
   "skip_h1_title": false,
   "title_cell": "Table of Contents",
   "title_sidebar": "Contents",
   "toc_cell": true,
   "toc_position": {},
   "toc_section_display": true,
   "toc_window_display": false
  }
 },
 "nbformat": 4,
 "nbformat_minor": 5
}
